{
 "cells": [
  {
   "cell_type": "code",
   "execution_count": 1,
   "metadata": {},
   "outputs": [],
   "source": [
    "#imports\n",
    "import pandas as pd"
   ]
  },
  {
   "cell_type": "code",
   "execution_count": 2,
   "metadata": {},
   "outputs": [
    {
     "data": {
      "text/html": [
       "<div>\n",
       "<style scoped>\n",
       "    .dataframe tbody tr th:only-of-type {\n",
       "        vertical-align: middle;\n",
       "    }\n",
       "\n",
       "    .dataframe tbody tr th {\n",
       "        vertical-align: top;\n",
       "    }\n",
       "\n",
       "    .dataframe thead th {\n",
       "        text-align: right;\n",
       "    }\n",
       "</style>\n",
       "<table border=\"1\" class=\"dataframe\">\n",
       "  <thead>\n",
       "    <tr style=\"text-align: right;\">\n",
       "      <th></th>\n",
       "      <th>Team</th>\n",
       "      <th>Year</th>\n",
       "      <th>Wins</th>\n",
       "      <th>Losses</th>\n",
       "      <th>Ties</th>\n",
       "      <th>Classification</th>\n",
       "      <th>QB</th>\n",
       "      <th>RB</th>\n",
       "      <th>WR</th>\n",
       "      <th>TE</th>\n",
       "      <th>...</th>\n",
       "      <th>Offense</th>\n",
       "      <th>DL</th>\n",
       "      <th>LB</th>\n",
       "      <th>S</th>\n",
       "      <th>CB</th>\n",
       "      <th>Defense</th>\n",
       "      <th>SpecialTeams</th>\n",
       "      <th>DeadMoney</th>\n",
       "      <th>Total</th>\n",
       "      <th>CapMax</th>\n",
       "    </tr>\n",
       "  </thead>\n",
       "  <tbody>\n",
       "    <tr>\n",
       "      <th>0</th>\n",
       "      <td>49ers</td>\n",
       "      <td>2013.0</td>\n",
       "      <td>12.0</td>\n",
       "      <td>4.0</td>\n",
       "      <td>0.0</td>\n",
       "      <td>Good</td>\n",
       "      <td>2843160.0</td>\n",
       "      <td>9257768.0</td>\n",
       "      <td>16945177.0</td>\n",
       "      <td>10569598.0</td>\n",
       "      <td>...</td>\n",
       "      <td>57094859.0</td>\n",
       "      <td>11028483.0</td>\n",
       "      <td>17860800.0</td>\n",
       "      <td>10696955.0</td>\n",
       "      <td>12885741.0</td>\n",
       "      <td>52471979.0</td>\n",
       "      <td>6831666.0</td>\n",
       "      <td>6601496.0</td>\n",
       "      <td>116398504.0</td>\n",
       "      <td>123000000.0</td>\n",
       "    </tr>\n",
       "    <tr>\n",
       "      <th>1</th>\n",
       "      <td>Bears</td>\n",
       "      <td>2013.0</td>\n",
       "      <td>8.0</td>\n",
       "      <td>8.0</td>\n",
       "      <td>0.0</td>\n",
       "      <td>Mediocre</td>\n",
       "      <td>11276471.0</td>\n",
       "      <td>12036166.0</td>\n",
       "      <td>16580067.0</td>\n",
       "      <td>2495000.0</td>\n",
       "      <td>...</td>\n",
       "      <td>52458756.0</td>\n",
       "      <td>29744128.0</td>\n",
       "      <td>12474915.0</td>\n",
       "      <td>3802254.0</td>\n",
       "      <td>15375000.0</td>\n",
       "      <td>61396297.0</td>\n",
       "      <td>6290000.0</td>\n",
       "      <td>2854947.0</td>\n",
       "      <td>120145053.0</td>\n",
       "      <td>123000000.0</td>\n",
       "    </tr>\n",
       "  </tbody>\n",
       "</table>\n",
       "<p>2 rows × 21 columns</p>\n",
       "</div>"
      ],
      "text/plain": [
       "    Team    Year  Wins  Losses  Ties Classification          QB          RB  \\\n",
       "0  49ers  2013.0  12.0     4.0   0.0           Good   2843160.0   9257768.0   \n",
       "1  Bears  2013.0   8.0     8.0   0.0       Mediocre  11276471.0  12036166.0   \n",
       "\n",
       "           WR          TE  ...     Offense          DL          LB  \\\n",
       "0  16945177.0  10569598.0  ...  57094859.0  11028483.0  17860800.0   \n",
       "1  16580067.0   2495000.0  ...  52458756.0  29744128.0  12474915.0   \n",
       "\n",
       "            S          CB     Defense  SpecialTeams  DeadMoney        Total  \\\n",
       "0  10696955.0  12885741.0  52471979.0     6831666.0  6601496.0  116398504.0   \n",
       "1   3802254.0  15375000.0  61396297.0     6290000.0  2854947.0  120145053.0   \n",
       "\n",
       "        CapMax  \n",
       "0  123000000.0  \n",
       "1  123000000.0  \n",
       "\n",
       "[2 rows x 21 columns]"
      ]
     },
     "execution_count": 2,
     "metadata": {},
     "output_type": "execute_result"
    }
   ],
   "source": [
    "#read in the raw csv file\n",
    "df = pd.read_csv(\"../data/raw-salary-cap-data.csv\", encoding= 'utf-8')\n",
    "df.head(2) #check to ensure it worked"
   ]
  },
  {
   "cell_type": "code",
   "execution_count": 11,
   "metadata": {},
   "outputs": [],
   "source": [
    "#Data is pretty clean in the excel file after putting it in there from the webiste gathering\n",
    "#want to add a PercentUsed column for the total/salary cap for each row.\n",
    "df['PercentUsed'] = df['Total']/df['CapMax']\n",
    "df.head(2)\n",
    "df = df.dropna()"
   ]
  },
  {
   "cell_type": "code",
   "execution_count": 12,
   "metadata": {},
   "outputs": [],
   "source": [
    "#write it back to a csv for the cleaned data\n",
    "df.to_csv('../data/salary-cap-data.csv', index = False)"
   ]
  },
  {
   "cell_type": "code",
   "execution_count": null,
   "metadata": {},
   "outputs": [],
   "source": []
  }
 ],
 "metadata": {
  "kernelspec": {
   "display_name": "Python 3",
   "language": "python",
   "name": "python3"
  },
  "language_info": {
   "codemirror_mode": {
    "name": "ipython",
    "version": 3
   },
   "file_extension": ".py",
   "mimetype": "text/x-python",
   "name": "python",
   "nbconvert_exporter": "python",
   "pygments_lexer": "ipython3",
   "version": "3.8.5"
  }
 },
 "nbformat": 4,
 "nbformat_minor": 4
}
